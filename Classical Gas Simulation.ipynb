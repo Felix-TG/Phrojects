{
 "cells": [
  {
   "cell_type": "markdown",
   "metadata": {},
   "source": [
    "# Proyecto: Simulación clásica de un gas"
   ]
  },
  {
   "cell_type": "markdown",
   "metadata": {},
   "source": [
    "# Introducción"
   ]
  },
  {
   "cell_type": "markdown",
   "metadata": {},
   "source": [
    "En el enfoque de dinámica molecular, intentamos comprender el comportamiento de un sistema clásico de muchas partículas simulando la trayectoria de cada partícula en el sistema.\n",
    "\n",
    "En la práctica, esto se puede aplicar a sistemas que contienen $10^9$ partículas como máximo. El enfoque de la dinámica molecular es complementario al método más potente de Monte Carlo. \n",
    "\n",
    "El método de Monte Carlo se usa con los sistemas que están en equilibrio térmico con un baño de calor. Por otro lado, el enfoque de la dinámica molecular es útil para estudiar qué tan rápido en tiempo real se mueve un sistema de un estado microscópico a otro.\n",
    "\n",
    "Consideramos una caja que contiene una colección de átomos o moléculas. Usaremos la segunda ley de Newton para calcular las posiciones y velocidades de todas las moléculas como funciones del tiempo."
   ]
  },
  {
   "cell_type": "markdown",
   "metadata": {},
   "source": [
    "### ¿Por qué una aproximación clasica?"
   ]
  },
  {
   "cell_type": "markdown",
   "metadata": {},
   "source": [
    "Un tratamiento clásico puede justificarse de la siguiente manera:\n",
    "\n",
    "Consideramos el caso del argón líquido como ejemplo. La energía requerida para excitar un átomo de argón es del orden de 10eV, mientras que la energía cinética típica del centro de masa de un átomo de argón es de 0.1eV. Por lo tanto, una colisión entre dos átomos de argón no cambiará la configuración electrónica de ninguno de los átomos. Por lo tanto, para todos los propósitos prácticos, podemos ignorar la estructura interna de los átomos de argón. \n",
    "\n",
    "Además, la longitud de onda de un átomo de argón que es del orden de $10^{−7}$A es mucho más pequeña que la separación entre los átomos de argón, típicamente del orden de 1A, que de nuevo justifica un tratamiento clásico."
   ]
  },
  {
   "cell_type": "markdown",
   "metadata": {},
   "source": [
    "# El potencial de  Lennard-Jones"
   ]
  },
  {
   "cell_type": "markdown",
   "metadata": {},
   "source": [
    "Consideramos una caja que contiene N átomos de argón. Para simplificar, asumiremos que nuestros átomos de argón se mueven en dos dimensiones. Las ecuaciones de movimiento del i-ésimo átomo localizado en $(x_i,y_i)$ con velocidad $(v_{i,x},v_{i,y})$ son "
   ]
  },
  {
   "cell_type": "markdown",
   "metadata": {},
   "source": [
    "$$\\dot{v_{i,x}}=a_{x,i},  \\dot{x_i}=v_{i,x}$$\n",
    "\n",
    "\n",
    "$$\\dot{v_{i,y}}=a_{y,i},  \\dot{y_i}=v_{i,y}$$"
   ]
  },
  {
   "cell_type": "markdown",
   "metadata": {},
   "source": [
    "Cada átomo de argón experimenta la fuerza debido a todos los demás átomos de argón. Para calcular esta fuerza necesitamos determinar el potencial de interacción. \n",
    "\n",
    "Suponemos que el potencial de interacción entre cualquier par de átomos de argón depende solo de la distancia entre ellos"
   ]
  },
  {
   "cell_type": "markdown",
   "metadata": {},
   "source": [
    "$$U=\\sum\\limits_{i=1}^N\\sum\\limits_{j=i+1}^{N}u(r_{ij})$$"
   ]
  },
  {
   "cell_type": "markdown",
   "metadata": {},
   "source": [
    "El potencial de interacción $u$ entre cualesquiera dos átomos en el gas separados por una distancia $r$ que consideraremos está dado por el potencial de Lenard-Jones "
   ]
  },
  {
   "cell_type": "markdown",
   "metadata": {},
   "source": [
    "$$ u(r) = 4\\epsilon \\Big[ \\big(\\frac{\\sigma}{r}\\big)^{12} - \\big(\\frac{\\sigma}{r}\\big)^6 \\Big] $$"
   ]
  },
  {
   "cell_type": "markdown",
   "metadata": {},
   "source": [
    "![640px-Argon_dimer_potential_and_Lennard-Jones](640px-Argon_dimer_potential_and_Lennard-Jones.png)"
   ]
  },
  {
   "cell_type": "markdown",
   "metadata": {},
   "source": [
    "La fuerza del átomo k sobre el átomo i es"
   ]
  },
  {
   "cell_type": "markdown",
   "metadata": {},
   "source": [
    "$$\\vec{f}_{k,i}=-\\vec{\\nabla}_{k,i}u(r_{k,i})$$"
   ]
  },
  {
   "cell_type": "markdown",
   "metadata": {},
   "source": [
    "Entonces la aceleración en x será (análogo para y)"
   ]
  },
  {
   "cell_type": "markdown",
   "metadata": {},
   "source": [
    "$$a_{x,i}=\\frac{24\\epsilon}{m}\\sum\\limits_{k\\neq i}\\frac{x_i-x_k}{r_{ki}^2}\\Big[2(\\frac{\\sigma}{r_{ki}})^{12}-(\\frac{\\sigma}{r_{ki}})^6\\Big]$$"
   ]
  },
  {
   "cell_type": "markdown",
   "metadata": {},
   "source": [
    "Usaremos $\\sigma = \\epsilon = m = 1 $ (unidades reducidas por simplicidad)"
   ]
  },
  {
   "cell_type": "markdown",
   "metadata": {},
   "source": [
    "# El algoritmo de Verlet"
   ]
  },
  {
   "cell_type": "markdown",
   "metadata": {},
   "source": [
    "El algoritmo númerico que usaremos es el algoritmo de Verlet.\n",
    "\n",
    "Si consideramos la expansíon de taylor \"hacia adelante\" y \"hacia atrás\" de una función f tenemos"
   ]
  },
  {
   "cell_type": "markdown",
   "metadata": {},
   "source": [
    "$f(t_n+\\Delta t)=f(t_n)+\\Delta t\\frac{df}{dt}|_{tn}+\\frac{1}{2}(\\Delta t)^2\\frac{d^2f}{dt^2}|_{tn}+\\frac{1}{3}(\\Delta t)^3\\frac{d^3f}{dt^3}|_{tn}+...$\n",
    "\n",
    "\n",
    "$f(t_n-\\Delta t)=f(t_n)-\\Delta t\\frac{df}{dt}|_{tn}+\\frac{1}{2}(\\Delta t)^2\\frac{d^2f}{dt^2}|_{tn}-\\frac{1}{3}(\\Delta t)^3\\frac{d^3f}{dt^3}|_{tn}+...$"
   ]
  },
  {
   "cell_type": "markdown",
   "metadata": {},
   "source": [
    "Restamos estas expresiones"
   ]
  },
  {
   "cell_type": "markdown",
   "metadata": {},
   "source": [
    "$f(t_n+\\Delta t)=2f(t_n)-f(t_n-\\Delta t)+(\\Delta t)^2\\frac{d^2f}{dt^2}|_{tn}+O(\\Delta t^4)$"
   ]
  },
  {
   "cell_type": "markdown",
   "metadata": {},
   "source": [
    "Observamos que el error es proporcional a $\\Delta t^4$, que es menor que los errores de los métodos de Euler, Euler-Cromer y Runge-Kutta de segundo orden, por lo que este método es más preciso. "
   ]
  },
  {
   "cell_type": "markdown",
   "metadata": {},
   "source": [
    "# Velocidad de Verlet"
   ]
  },
  {
   "cell_type": "markdown",
   "metadata": {},
   "source": [
    "Un algoritmo relacionado, y más comúnmente usado, es el algoritmo Verlet de velocidad, similar al método de salto de rana, excepto que la velocidad y la posición se calculan en el mismo valor de la variable de tiempo (el salto no lo hace, como su nombre indica). Esto utiliza un enfoque similar, pero incorpora explícitamente la velocidad, "
   ]
  },
  {
   "cell_type": "markdown",
   "metadata": {},
   "source": [
    "Se puede mostrar que el error en el Verlet de velocidad es del mismo orden que en el Verlet básico. \n",
    "\n",
    "Teniendo en cuenta que el algoritmo de velocidad no consume necesariamente más memoria, ya que no es necesario realizar un seguimiento de la velocidad en cada paso de tiempo durante la simulación (En nuestro caso si por propositos del ejercicio). \n",
    "\n",
    "El esquema de implementación estándar de este algoritmo es:"
   ]
  },
  {
   "cell_type": "markdown",
   "metadata": {},
   "source": [
    "1. Calcular $\\vec{x}(t+\\Delta t)=\\vec{x}(t)+\\vec{v}(t)\\Delta t+\\frac{1}{2}\\vec{a}(t)\\Delta t^2$\n",
    "\n",
    "\n",
    "2. Obtener $\\vec{a}(t+\\Delta t)$ aplicando el potencial de interacción a $\\vec{x}(t+\\Delta t)$\n",
    "\n",
    "\n",
    "3. Calcular $\\vec{v}(t+\\Delta t)=\\vec{v}(t)+\\frac{1}{2}(\\vec{a}(t)+\\vec{a}(t+\\Delta t))\\Delta t$"
   ]
  },
  {
   "cell_type": "markdown",
   "metadata": {},
   "source": [
    "Notemos que este algoritmo asume que la aceleración $\\vec{a}(t+\\Delta)$ solo depende de la posic"
   ]
  },
  {
   "cell_type": "markdown",
   "metadata": {},
   "source": [
    "#  Consideraciones del problema "
   ]
  },
  {
   "cell_type": "markdown",
   "metadata": {},
   "source": [
    "Consideraremos el movimiento en dos dimensiones de N átomos de argón en una caja de $L \\times L$ \n",
    "\n",
    "El potencial de interacción u entre dos átomos en el gas separado por una distancia r está dado por el potencial de Lennard-Jones. \n",
    "\n",
    "El algoritmo numérico que usaremos es el algoritmo de Verlet.\n",
    "\n",
    "En este problema siempre tomaremos L impar y N un cuadrado perfecto. \n",
    "\n",
    "El espaciado de la red se define por\n",
    "$$a=\\frac{L}{\\sqrt{N}}$$"
   ]
  },
  {
   "cell_type": "markdown",
   "metadata": {},
   "source": [
    "Hay N celdas del área $a$ x $a$. Elegimos L y N tal que $a > 2\\sigma$. \n",
    "\n",
    "Para simplificar, usaremos unidades reducidas $\\sigma = \\epsilon = m = 1$. \n",
    "\n",
    "Para reducir los efectos de borde, usamos condiciones de contorno periódicas. En otras palabras, la caja es efectivamente un toro (no hay bordes).\n",
    "\n"
   ]
  },
  {
   "cell_type": "code",
   "execution_count": 1,
   "metadata": {},
   "outputs": [],
   "source": [
    "using LinearAlgebra"
   ]
  },
  {
   "cell_type": "code",
   "execution_count": 3,
   "metadata": {},
   "outputs": [
    {
     "name": "stdout",
     "output_type": "stream",
     "text": [
      "\u001b[32m\u001b[1m  Updating\u001b[22m\u001b[39m registry at `C:\\Users\\Felix\\.julia\\registries\\General`\n",
      "\u001b[32m\u001b[1m  Updating\u001b[22m\u001b[39m git-repo `https://github.com/JuliaRegistries/General.git`\n",
      "\u001b[2K\u001b[36m\u001b[1mFetching:\u001b[22m\u001b[39m [========================================>]  100.0 %.0 %\u001b[36m\u001b[1mFetching:\u001b[22m\u001b[39m [========>                                ]  20.0 %\u001b[36m\u001b[1mFetching:\u001b[22m\u001b[39m [================>                        ]  38.6 %.1 %\u001b[?25h\u001b[32m\u001b[1m Resolving\u001b[22m\u001b[39m package versions...\n",
      "\u001b[32m\u001b[1m  Updating\u001b[22m\u001b[39m `C:\\Users\\Felix\\.julia\\environments\\v1.1\\Project.toml`\n",
      "\u001b[90m [no changes]\u001b[39m\n",
      "\u001b[32m\u001b[1m  Updating\u001b[22m\u001b[39m `C:\\Users\\Felix\\.julia\\environments\\v1.1\\Manifest.toml`\n",
      "\u001b[90m [no changes]\u001b[39m\n"
     ]
    }
   ],
   "source": [
    "import Pkg; Pkg.add(\"Gtk\")"
   ]
  },
  {
   "cell_type": "code",
   "execution_count": 4,
   "metadata": {},
   "outputs": [
    {
     "name": "stdout",
     "output_type": "stream",
     "text": [
      "\u001b[32m\u001b[1m Resolving\u001b[22m\u001b[39m package versions...\n",
      "\u001b[32m\u001b[1m  Updating\u001b[22m\u001b[39m `C:\\Users\\Felix\\.julia\\environments\\v1.1\\Project.toml`\n",
      "\u001b[90m [no changes]\u001b[39m\n",
      "\u001b[32m\u001b[1m  Updating\u001b[22m\u001b[39m `C:\\Users\\Felix\\.julia\\environments\\v1.1\\Manifest.toml`\n",
      "\u001b[90m [no changes]\u001b[39m\n"
     ]
    }
   ],
   "source": [
    "import Pkg; Pkg.add(\"Interact\")"
   ]
  },
  {
   "cell_type": "code",
   "execution_count": 5,
   "metadata": {},
   "outputs": [
    {
     "data": {
      "text/html": [
       "<script>\n",
       "// Immediately-invoked-function-expression to avoid global variables.\n",
       "(function() {\n",
       "    var warning_div = document.getElementById(\"webio-warning-12158908985256010418\");\n",
       "    var hide = function () {\n",
       "        var script = document.getElementById(\"webio-setup-3309288959501696\");\n",
       "        var parent = script && script.parentElement;\n",
       "        var grandparent = parent && parent.parentElement;\n",
       "        if (grandparent) {\n",
       "            grandparent.style.display = \"none\";\n",
       "        }\n",
       "        warning_div.style.display = \"none\";\n",
       "    };\n",
       "    if (typeof Jupyter !== \"undefined\") {\n",
       "        console.log(\"WebIO detected Jupyter notebook environment.\");\n",
       "        // Jupyter notebook.\n",
       "        var extensions = (\n",
       "            Jupyter\n",
       "            && Jupyter.notebook.config.data\n",
       "            && Jupyter.notebook.config.data.load_extensions\n",
       "        );\n",
       "        if (extensions && extensions[\"webio-jupyter-notebook\"]) {\n",
       "            // Extension already loaded.\n",
       "            console.log(\"Jupyter WebIO nbextension detected; not loading ad-hoc.\");\n",
       "            hide();\n",
       "            return;\n",
       "        }\n",
       "    } else if (window.location.pathname.includes(\"/lab\")) {\n",
       "        // Guessing JupyterLa\n",
       "        console.log(\"Jupyter Lab detected; make sure the @webio/jupyter-lab-provider labextension is installed.\");\n",
       "        hide();\n",
       "        return;\n",
       "    }\n",
       "})();\n",
       "\n",
       "</script>\n",
       "<p\n",
       "    id=\"webio-warning-12158908985256010418\"\n",
       "    class=\"output_text output_stderr\"\n",
       "    style=\"padding: 1em; font-weight: bold;\"\n",
       ">\n",
       "    Unable to load WebIO. Please make sure WebIO works for your Jupyter client.\n",
       "    For troubleshooting, please see <a href=\"https://juliagizmos.github.io/WebIO.jl/latest/providers/ijulia/\">\n",
       "    the WebIO/IJulia documentation</a>.\n",
       "    <!-- TODO: link to installation docs. -->\n",
       "</p>\n"
      ],
      "text/plain": [
       "HTML{String}(\"<script>\\n// Immediately-invoked-function-expression to avoid global variables.\\n(function() {\\n    var warning_div = document.getElementById(\\\"webio-warning-12158908985256010418\\\");\\n    var hide = function () {\\n        var script = document.getElementById(\\\"webio-setup-3309288959501696\\\");\\n        var parent = script && script.parentElement;\\n        var grandparent = parent && parent.parentElement;\\n        if (grandparent) {\\n            grandparent.style.display = \\\"none\\\";\\n        }\\n        warning_div.style.display = \\\"none\\\";\\n    };\\n    if (typeof Jupyter !== \\\"undefined\\\") {\\n        console.log(\\\"WebIO detected Jupyter notebook environment.\\\");\\n        // Jupyter notebook.\\n        var extensions = (\\n            Jupyter\\n            && Jupyter.notebook.config.data\\n            && Jupyter.notebook.config.data.load_extensions\\n        );\\n        if (extensions && extensions[\\\"webio-jupyter-notebook\\\"]) {\\n            // Extension already loaded.\\n            console.log(\\\"Jupyter WebIO nbextension detected; not loading ad-hoc.\\\");\\n            hide();\\n            return;\\n        }\\n    } else if (window.location.pathname.includes(\\\"/lab\\\")) {\\n        // Guessing JupyterLa\\n        console.log(\\\"Jupyter Lab detected; make sure the @webio/jupyter-lab-provider labextension is installed.\\\");\\n        hide();\\n        return;\\n    }\\n})();\\n\\n</script>\\n<p\\n    id=\\\"webio-warning-12158908985256010418\\\"\\n    class=\\\"output_text output_stderr\\\"\\n    style=\\\"padding: 1em; font-weight: bold;\\\"\\n>\\n    Unable to load WebIO. Please make sure WebIO works for your Jupyter client.\\n    For troubleshooting, please see <a href=\\\"https://juliagizmos.github.io/WebIO.jl/latest/providers/ijulia/\\\">\\n    the WebIO/IJulia documentation</a>.\\n    <!-- TODO: link to installation docs. -->\\n</p>\\n\")"
      ]
     },
     "metadata": {},
     "output_type": "display_data"
    }
   ],
   "source": [
    "using Interact"
   ]
  },
  {
   "cell_type": "code",
   "execution_count": 2,
   "metadata": {},
   "outputs": [
    {
     "name": "stdout",
     "output_type": "stream",
     "text": [
      "\u001b[32m\u001b[1m  Updating\u001b[22m\u001b[39m registry at `C:\\Users\\Felix\\.julia\\registries\\General`\n",
      "\u001b[32m\u001b[1m  Updating\u001b[22m\u001b[39m git-repo `https://github.com/JuliaRegistries/General.git`\n",
      "\u001b[?25l\u001b[2K\u001b[?25h\u001b[32m\u001b[1m Resolving\u001b[22m\u001b[39m package versions...\n",
      "\u001b[32m\u001b[1m  Updating\u001b[22m\u001b[39m `C:\\Users\\Felix\\.julia\\environments\\v1.1\\Project.toml`\n",
      "\u001b[90m [no changes]\u001b[39m\n",
      "\u001b[32m\u001b[1m  Updating\u001b[22m\u001b[39m `C:\\Users\\Felix\\.julia\\environments\\v1.1\\Manifest.toml`\n",
      "\u001b[90m [no changes]\u001b[39m\n"
     ]
    }
   ],
   "source": [
    "import Pkg; Pkg.add(\"Plots\")"
   ]
  },
  {
   "cell_type": "code",
   "execution_count": 3,
   "metadata": {},
   "outputs": [],
   "source": [
    "using Plots"
   ]
  },
  {
   "cell_type": "code",
   "execution_count": 4,
   "metadata": {},
   "outputs": [
    {
     "data": {
      "text/plain": [
       "paso_verlet (generic function with 1 method)"
      ]
     },
     "execution_count": 4,
     "metadata": {},
     "output_type": "execute_result"
    }
   ],
   "source": [
    "function paso_verlet(xx_0, yy_0, vx_0, vy_0, ax_0, ay_0, dt, aa, L) # donde aa es una funcion vectorial aa(xx, yy)\n",
    "    \n",
    "    xx_new = xx_0 + vx_0*dt + 0.5*ax_0*dt^2  \n",
    "    \n",
    "    yy_new = yy_0 + vy_0*dt + 0.5*ay_0*dt^2\n",
    "    \n",
    "    ax_new, ay_new = aa(xx_new, yy_new)\n",
    "    \n",
    "    vx_new = vx_0 + 0.5*(ax_0 + ax_new)*dt\n",
    "    \n",
    "    vy_new = vy_0 + 0.5*(ay_0 + ay_new)*dt\n",
    "    \n",
    "    N = length(xx_new)\n",
    "    \n",
    "    for i in 1:N #condiciones de frontera\n",
    "    \n",
    "        if xx_new[i] > L\n",
    "\n",
    "            xx_new[i] = (xx_new[i]%L)\n",
    "        end\n",
    "        if xx_new[i] < 0\n",
    "\n",
    "            xx_new[i] = (xx_new[i]%L) + L\n",
    "        end\n",
    "        if yy_new[i] > L\n",
    "\n",
    "            yy_new[i] = (yy_new[i]%L)\n",
    "        end\n",
    "        if yy_new[i] < 0\n",
    "\n",
    "            yy_new[i] = (yy_new[i]%L) + L\n",
    "        end\n",
    "        \n",
    "        \n",
    "    end\n",
    "    \n",
    "    \n",
    "    return xx_new, yy_new, vx_new, vy_new\n",
    "    \n",
    "end\n",
    "    \n",
    "    \n",
    "    "
   ]
  },
  {
   "cell_type": "code",
   "execution_count": 5,
   "metadata": {},
   "outputs": [
    {
     "data": {
      "text/plain": [
       "verlet"
      ]
     },
     "execution_count": 5,
     "metadata": {},
     "output_type": "execute_result"
    }
   ],
   "source": [
    "\"\"\"\n",
    "xxx[i] son las posiciones en x de las n particulas al tiempo i\n",
    "xxx[i][j] es la posicion en x de la j-esima particula al tiempo i \n",
    "\"\"\"\n",
    "function verlet(xx_0, yy_0, vx_0, vy_0, dt, aa, T, L) \n",
    "    \n",
    "    \n",
    "    ax_0 , ay_0 = aa(xx_0, yy_0)\n",
    "    \n",
    "    xxx = [xx_0]\n",
    "    yyy = [yy_0]\n",
    "    vxx = [vx_0]\n",
    "    vyy = [vy_0]\n",
    "    \n",
    "    for i in dt:dt:T\n",
    "        \n",
    "        xx_new, yy_new, vx_new, vy_new = paso_verlet(xx_0, yy_0, vx_0, vy_0, ax_0, ay_0, dt, aa, L)\n",
    "        \n",
    "        \n",
    "        push!(xxx, xx_new)\n",
    "    \n",
    "        push!(yyy, yy_new)\n",
    "\n",
    "        push!(vxx, vx_new)\n",
    "\n",
    "        push!(vyy, vy_new)\n",
    "        \n",
    "        xx_0 = xx_new\n",
    "        \n",
    "        yy_0 = yy_new\n",
    "        \n",
    "        vx_0 = vx_new\n",
    "        \n",
    "        vy_0 = vy_new\n",
    "        \n",
    "        \n",
    "        \n",
    "        \n",
    "    end\n",
    "    \n",
    "    return xxx, yyy, vxx, vyy\n",
    "    \n",
    "end\n",
    "# xxx[i] son las posiciones en x de las n particulas al tiempo i\n",
    "# xxx[i][j] es la posicion en x de la j-esima particula al tiempo i "
   ]
  },
  {
   "cell_type": "code",
   "execution_count": 6,
   "metadata": {},
   "outputs": [
    {
     "data": {
      "text/plain": [
       "distxx (generic function with 1 method)"
      ]
     },
     "execution_count": 6,
     "metadata": {},
     "output_type": "execute_result"
    }
   ],
   "source": [
    "function distxx(i, j, xx) # La distancia que tomaremos siempre tiene que ser menor que L/2 \n",
    "                          # así que tomamos la menor de las distancias sobre el toro\n",
    "    \n",
    "    x_ij = abs(xx[j] - xx[i])\n",
    "    \n",
    "\n",
    "    if x_ij <= L*0.5\n",
    "        \n",
    "        return x_ij*sign(xx[j] - xx[i])\n",
    "        \n",
    "    end\n",
    "    \n",
    "    if x_ij > L*0.5\n",
    "       \n",
    "        x_ij = x_ij*sign(xx[j] - xx[i]) - sign(x_ij)*L\n",
    "        \n",
    "        return x_ij\n",
    "        \n",
    "    end\n",
    "\n",
    "\n",
    "end"
   ]
  },
  {
   "cell_type": "code",
   "execution_count": 7,
   "metadata": {},
   "outputs": [
    {
     "data": {
      "text/plain": [
       "distyy (generic function with 1 method)"
      ]
     },
     "execution_count": 7,
     "metadata": {},
     "output_type": "execute_result"
    }
   ],
   "source": [
    "function distyy(i, j, yy)  # La distancia que tomaremos siempre tiene que ser menor que L/2 \n",
    "                           # así que tomamos la menor de las distancias sobre el toro\n",
    "    y_ij = abs(yy[j] - yy[i])\n",
    "    \n",
    "\n",
    "    if y_ij <= L*0.5\n",
    "        \n",
    "        return y_ij*sign(yy[j] - yy[i])\n",
    "        \n",
    "    end\n",
    "    \n",
    "    if y_ij > L*0.5\n",
    "       \n",
    "        y_ij = y_ij*sign(yy[j] - yy[i]) - sign(yy[j] - yy[i])*L\n",
    "        \n",
    "        return y_ij\n",
    "        \n",
    "    end\n",
    "\n",
    "\n",
    "end"
   ]
  },
  {
   "cell_type": "code",
   "execution_count": 8,
   "metadata": {},
   "outputs": [
    {
     "data": {
      "text/plain": [
       "R (generic function with 1 method)"
      ]
     },
     "execution_count": 8,
     "metadata": {},
     "output_type": "execute_result"
    }
   ],
   "source": [
    "R(k, i, xx, yy) = norm([distxx(k, i, xx), distyy(k, i, yy) ])"
   ]
  },
  {
   "cell_type": "code",
   "execution_count": 61,
   "metadata": {},
   "outputs": [
    {
     "data": {
      "text/plain": [
       "ayi (generic function with 1 method)"
      ]
     },
     "execution_count": 61,
     "metadata": {},
     "output_type": "execute_result"
    }
   ],
   "source": [
    "function ayi(xx, yy, i)\n",
    "N = length(yy)\n",
    "    tol=0.01\n",
    "    ayi = 24 * sum( [ distyy(k, i, yy) / (R(k, i, xx, yy)^2+tol)  *  (2/(R(k,i, xx, yy)^12+tol)  - 1/(R(k,i, xx, yy)^6+tol) )  for k in 1:N if k != i ])\n",
    "    return ayi\n",
    "end"
   ]
  },
  {
   "cell_type": "code",
   "execution_count": 62,
   "metadata": {},
   "outputs": [
    {
     "data": {
      "text/plain": [
       "axi (generic function with 1 method)"
      ]
     },
     "execution_count": 62,
     "metadata": {},
     "output_type": "execute_result"
    }
   ],
   "source": [
    "function axi(xx, yy, i)\n",
    "N = length(yy)\n",
    "   tol=0.01\n",
    "    axi = 24 * sum( [ distxx(k, i, xx) / (R(k, i, xx, yy)^2+tol)  * (2/(R(k,i, xx, yy)^12+tol)  - 1/(R(k,i, xx, yy)^6+tol))  for k in 1:N if k != i ])\n",
    "    return axi\n",
    "end"
   ]
  },
  {
   "cell_type": "code",
   "execution_count": 63,
   "metadata": {},
   "outputs": [
    {
     "data": {
      "text/plain": [
       "aa (generic function with 1 method)"
      ]
     },
     "execution_count": 63,
     "metadata": {},
     "output_type": "execute_result"
    }
   ],
   "source": [
    "function aa(xx, yy)\n",
    "   \n",
    "  ax =  [axi(xx, yy, i) for i in 1:length(xx) ]\n",
    "  ay =  [ayi(xx, yy, i) for i in 1:length(yy) ]\n",
    "    \n",
    "    return ax, ay\n",
    "end"
   ]
  },
  {
   "cell_type": "code",
   "execution_count": 64,
   "metadata": {},
   "outputs": [
    {
     "data": {
      "text/plain": [
       "cond_ini (generic function with 1 method)"
      ]
     },
     "execution_count": 64,
     "metadata": {},
     "output_type": "execute_result"
    }
   ],
   "source": [
    "function cond_ini(L,N)\n",
    "    n = sqrt(N)\n",
    "    a = L / n\n",
    "    \n",
    "    xx = []\n",
    "    \n",
    "    yy = []\n",
    "    \n",
    "    for i in 0:n-1\n",
    "        for j in 0:n-1\n",
    "            \n",
    "            x = i*a + a/2\n",
    "            \n",
    "            y = j*a + a/2\n",
    "            \n",
    "            push!(xx, x)\n",
    "            \n",
    "            push!(yy, y)\n",
    "            \n",
    "        end\n",
    "    end\n",
    "    \n",
    "    return xx, yy \n",
    "    \n",
    "end"
   ]
  },
  {
   "cell_type": "code",
   "execution_count": 65,
   "metadata": {},
   "outputs": [
    {
     "data": {
      "text/plain": [
       "cond_ran (generic function with 1 method)"
      ]
     },
     "execution_count": 65,
     "metadata": {},
     "output_type": "execute_result"
    }
   ],
   "source": [
    "function cond_ran(L, N)\n",
    "    \n",
    "    n = sqrt(N)\n",
    "    a = L / n\n",
    "    xx, yy = cond_ini(L, N)\n",
    "    \n",
    "    for i in 1:N\n",
    "        \n",
    "        r = (rand()* a/4)- (rand()* a/4)\n",
    "        \n",
    "        xx[i] = xx[i] + r\n",
    "        \n",
    "    end\n",
    "    \n",
    "    for j in 1:N\n",
    "        \n",
    "        r = (rand()* a/4)- (rand()* a/4)\n",
    "        \n",
    "        yy[j] = yy[j] + r\n",
    "        \n",
    "    end\n",
    "    \n",
    "    return xx, yy\n",
    "    \n",
    "end"
   ]
  },
  {
   "cell_type": "code",
   "execution_count": 66,
   "metadata": {},
   "outputs": [
    {
     "data": {
      "image/svg+xml": [
       "<?xml version=\"1.0\" encoding=\"utf-8\"?>\n",
       "<svg xmlns=\"http://www.w3.org/2000/svg\" xmlns:xlink=\"http://www.w3.org/1999/xlink\" width=\"600\" height=\"400\" viewBox=\"0 0 2400 1600\">\n",
       "<defs>\n",
       "  <clipPath id=\"clip1100\">\n",
       "    <rect x=\"0\" y=\"0\" width=\"2400\" height=\"1600\"/>\n",
       "  </clipPath>\n",
       "</defs>\n",
       "<path clip-path=\"url(#clip1100)\" d=\"\n",
       "M0 1600 L2400 1600 L2400 0 L0 0  Z\n",
       "  \" fill=\"#ffffff\" fill-rule=\"evenodd\" fill-opacity=\"1\"/>\n",
       "<defs>\n",
       "  <clipPath id=\"clip1101\">\n",
       "    <rect x=\"480\" y=\"0\" width=\"1681\" height=\"1600\"/>\n",
       "  </clipPath>\n",
       "</defs>\n",
       "<path clip-path=\"url(#clip1100)\" d=\"\n",
       "M121.251 1503.47 L2321.26 1503.47 L2321.26 47.2441 L121.251 47.2441  Z\n",
       "  \" fill=\"#ffffff\" fill-rule=\"evenodd\" fill-opacity=\"1\"/>\n",
       "<defs>\n",
       "  <clipPath id=\"clip1102\">\n",
       "    <rect x=\"121\" y=\"47\" width=\"2201\" height=\"1457\"/>\n",
       "  </clipPath>\n",
       "</defs>\n",
       "<polyline clip-path=\"url(#clip1102)\" style=\"stroke:#000000; stroke-width:2; stroke-opacity:0.1; fill:none\" points=\"\n",
       "  183.515,1503.47 183.515,47.2441 \n",
       "  \"/>\n",
       "<polyline clip-path=\"url(#clip1102)\" style=\"stroke:#000000; stroke-width:2; stroke-opacity:0.1; fill:none\" points=\"\n",
       "  598.611,1503.47 598.611,47.2441 \n",
       "  \"/>\n",
       "<polyline clip-path=\"url(#clip1102)\" style=\"stroke:#000000; stroke-width:2; stroke-opacity:0.1; fill:none\" points=\"\n",
       "  1013.71,1503.47 1013.71,47.2441 \n",
       "  \"/>\n",
       "<polyline clip-path=\"url(#clip1102)\" style=\"stroke:#000000; stroke-width:2; stroke-opacity:0.1; fill:none\" points=\"\n",
       "  1428.8,1503.47 1428.8,47.2441 \n",
       "  \"/>\n",
       "<polyline clip-path=\"url(#clip1102)\" style=\"stroke:#000000; stroke-width:2; stroke-opacity:0.1; fill:none\" points=\"\n",
       "  1843.9,1503.47 1843.9,47.2441 \n",
       "  \"/>\n",
       "<polyline clip-path=\"url(#clip1102)\" style=\"stroke:#000000; stroke-width:2; stroke-opacity:0.1; fill:none\" points=\"\n",
       "  2259,1503.47 2259,47.2441 \n",
       "  \"/>\n",
       "<polyline clip-path=\"url(#clip1102)\" style=\"stroke:#000000; stroke-width:2; stroke-opacity:0.1; fill:none\" points=\"\n",
       "  121.251,1462.26 2321.26,1462.26 \n",
       "  \"/>\n",
       "<polyline clip-path=\"url(#clip1102)\" style=\"stroke:#000000; stroke-width:2; stroke-opacity:0.1; fill:none\" points=\"\n",
       "  121.251,1187.5 2321.26,1187.5 \n",
       "  \"/>\n",
       "<polyline clip-path=\"url(#clip1102)\" style=\"stroke:#000000; stroke-width:2; stroke-opacity:0.1; fill:none\" points=\"\n",
       "  121.251,912.74 2321.26,912.74 \n",
       "  \"/>\n",
       "<polyline clip-path=\"url(#clip1102)\" style=\"stroke:#000000; stroke-width:2; stroke-opacity:0.1; fill:none\" points=\"\n",
       "  121.251,637.979 2321.26,637.979 \n",
       "  \"/>\n",
       "<polyline clip-path=\"url(#clip1102)\" style=\"stroke:#000000; stroke-width:2; stroke-opacity:0.1; fill:none\" points=\"\n",
       "  121.251,363.219 2321.26,363.219 \n",
       "  \"/>\n",
       "<polyline clip-path=\"url(#clip1102)\" style=\"stroke:#000000; stroke-width:2; stroke-opacity:0.1; fill:none\" points=\"\n",
       "  121.251,88.4582 2321.26,88.4582 \n",
       "  \"/>\n",
       "<polyline clip-path=\"url(#clip1100)\" style=\"stroke:#000000; stroke-width:4; stroke-opacity:1; fill:none\" points=\"\n",
       "  121.251,1503.47 2321.26,1503.47 \n",
       "  \"/>\n",
       "<polyline clip-path=\"url(#clip1100)\" style=\"stroke:#000000; stroke-width:4; stroke-opacity:1; fill:none\" points=\"\n",
       "  121.251,1503.47 121.251,47.2441 \n",
       "  \"/>\n",
       "<polyline clip-path=\"url(#clip1100)\" style=\"stroke:#000000; stroke-width:4; stroke-opacity:1; fill:none\" points=\"\n",
       "  183.515,1503.47 183.515,1481.63 \n",
       "  \"/>\n",
       "<polyline clip-path=\"url(#clip1100)\" style=\"stroke:#000000; stroke-width:4; stroke-opacity:1; fill:none\" points=\"\n",
       "  598.611,1503.47 598.611,1481.63 \n",
       "  \"/>\n",
       "<polyline clip-path=\"url(#clip1100)\" style=\"stroke:#000000; stroke-width:4; stroke-opacity:1; fill:none\" points=\"\n",
       "  1013.71,1503.47 1013.71,1481.63 \n",
       "  \"/>\n",
       "<polyline clip-path=\"url(#clip1100)\" style=\"stroke:#000000; stroke-width:4; stroke-opacity:1; fill:none\" points=\"\n",
       "  1428.8,1503.47 1428.8,1481.63 \n",
       "  \"/>\n",
       "<polyline clip-path=\"url(#clip1100)\" style=\"stroke:#000000; stroke-width:4; stroke-opacity:1; fill:none\" points=\"\n",
       "  1843.9,1503.47 1843.9,1481.63 \n",
       "  \"/>\n",
       "<polyline clip-path=\"url(#clip1100)\" style=\"stroke:#000000; stroke-width:4; stroke-opacity:1; fill:none\" points=\"\n",
       "  2259,1503.47 2259,1481.63 \n",
       "  \"/>\n",
       "<polyline clip-path=\"url(#clip1100)\" style=\"stroke:#000000; stroke-width:4; stroke-opacity:1; fill:none\" points=\"\n",
       "  121.251,1462.26 154.251,1462.26 \n",
       "  \"/>\n",
       "<polyline clip-path=\"url(#clip1100)\" style=\"stroke:#000000; stroke-width:4; stroke-opacity:1; fill:none\" points=\"\n",
       "  121.251,1187.5 154.251,1187.5 \n",
       "  \"/>\n",
       "<polyline clip-path=\"url(#clip1100)\" style=\"stroke:#000000; stroke-width:4; stroke-opacity:1; fill:none\" points=\"\n",
       "  121.251,912.74 154.251,912.74 \n",
       "  \"/>\n",
       "<polyline clip-path=\"url(#clip1100)\" style=\"stroke:#000000; stroke-width:4; stroke-opacity:1; fill:none\" points=\"\n",
       "  121.251,637.979 154.251,637.979 \n",
       "  \"/>\n",
       "<polyline clip-path=\"url(#clip1100)\" style=\"stroke:#000000; stroke-width:4; stroke-opacity:1; fill:none\" points=\"\n",
       "  121.251,363.219 154.251,363.219 \n",
       "  \"/>\n",
       "<polyline clip-path=\"url(#clip1100)\" style=\"stroke:#000000; stroke-width:4; stroke-opacity:1; fill:none\" points=\"\n",
       "  121.251,88.4582 154.251,88.4582 \n",
       "  \"/>\n",
       "<g clip-path=\"url(#clip1100)\">\n",
       "<text style=\"fill:#000000; fill-opacity:1; font-family:Arial,Helvetica Neue,Helvetica,sans-serif; font-size:48px; text-anchor:middle;\" transform=\"rotate(0, 183.515, 1557.47)\" x=\"183.515\" y=\"1557.47\">0</text>\n",
       "</g>\n",
       "<g clip-path=\"url(#clip1100)\">\n",
       "<text style=\"fill:#000000; fill-opacity:1; font-family:Arial,Helvetica Neue,Helvetica,sans-serif; font-size:48px; text-anchor:middle;\" transform=\"rotate(0, 598.611, 1557.47)\" x=\"598.611\" y=\"1557.47\">1</text>\n",
       "</g>\n",
       "<g clip-path=\"url(#clip1100)\">\n",
       "<text style=\"fill:#000000; fill-opacity:1; font-family:Arial,Helvetica Neue,Helvetica,sans-serif; font-size:48px; text-anchor:middle;\" transform=\"rotate(0, 1013.71, 1557.47)\" x=\"1013.71\" y=\"1557.47\">2</text>\n",
       "</g>\n",
       "<g clip-path=\"url(#clip1100)\">\n",
       "<text style=\"fill:#000000; fill-opacity:1; font-family:Arial,Helvetica Neue,Helvetica,sans-serif; font-size:48px; text-anchor:middle;\" transform=\"rotate(0, 1428.8, 1557.47)\" x=\"1428.8\" y=\"1557.47\">3</text>\n",
       "</g>\n",
       "<g clip-path=\"url(#clip1100)\">\n",
       "<text style=\"fill:#000000; fill-opacity:1; font-family:Arial,Helvetica Neue,Helvetica,sans-serif; font-size:48px; text-anchor:middle;\" transform=\"rotate(0, 1843.9, 1557.47)\" x=\"1843.9\" y=\"1557.47\">4</text>\n",
       "</g>\n",
       "<g clip-path=\"url(#clip1100)\">\n",
       "<text style=\"fill:#000000; fill-opacity:1; font-family:Arial,Helvetica Neue,Helvetica,sans-serif; font-size:48px; text-anchor:middle;\" transform=\"rotate(0, 2259, 1557.47)\" x=\"2259\" y=\"1557.47\">5</text>\n",
       "</g>\n",
       "<g clip-path=\"url(#clip1100)\">\n",
       "<text style=\"fill:#000000; fill-opacity:1; font-family:Arial,Helvetica Neue,Helvetica,sans-serif; font-size:48px; text-anchor:end;\" transform=\"rotate(0, 97.2505, 1479.76)\" x=\"97.2505\" y=\"1479.76\">0</text>\n",
       "</g>\n",
       "<g clip-path=\"url(#clip1100)\">\n",
       "<text style=\"fill:#000000; fill-opacity:1; font-family:Arial,Helvetica Neue,Helvetica,sans-serif; font-size:48px; text-anchor:end;\" transform=\"rotate(0, 97.2505, 1205)\" x=\"97.2505\" y=\"1205\">1</text>\n",
       "</g>\n",
       "<g clip-path=\"url(#clip1100)\">\n",
       "<text style=\"fill:#000000; fill-opacity:1; font-family:Arial,Helvetica Neue,Helvetica,sans-serif; font-size:48px; text-anchor:end;\" transform=\"rotate(0, 97.2505, 930.24)\" x=\"97.2505\" y=\"930.24\">2</text>\n",
       "</g>\n",
       "<g clip-path=\"url(#clip1100)\">\n",
       "<text style=\"fill:#000000; fill-opacity:1; font-family:Arial,Helvetica Neue,Helvetica,sans-serif; font-size:48px; text-anchor:end;\" transform=\"rotate(0, 97.2505, 655.479)\" x=\"97.2505\" y=\"655.479\">3</text>\n",
       "</g>\n",
       "<g clip-path=\"url(#clip1100)\">\n",
       "<text style=\"fill:#000000; fill-opacity:1; font-family:Arial,Helvetica Neue,Helvetica,sans-serif; font-size:48px; text-anchor:end;\" transform=\"rotate(0, 97.2505, 380.719)\" x=\"97.2505\" y=\"380.719\">4</text>\n",
       "</g>\n",
       "<g clip-path=\"url(#clip1100)\">\n",
       "<text style=\"fill:#000000; fill-opacity:1; font-family:Arial,Helvetica Neue,Helvetica,sans-serif; font-size:48px; text-anchor:end;\" transform=\"rotate(0, 97.2505, 105.958)\" x=\"97.2505\" y=\"105.958\">5</text>\n",
       "</g>\n",
       "<circle clip-path=\"url(#clip1102)\" style=\"fill:#000000; stroke:none; fill-opacity:1\" cx=\"391.063\" cy=\"1324.88\" r=\"18\"/>\n",
       "<circle clip-path=\"url(#clip1102)\" style=\"fill:#009af9; stroke:none; fill-opacity:1\" cx=\"391.063\" cy=\"1324.88\" r=\"14\"/>\n",
       "<circle clip-path=\"url(#clip1102)\" style=\"fill:#000000; stroke:none; fill-opacity:1\" cx=\"391.063\" cy=\"1050.12\" r=\"18\"/>\n",
       "<circle clip-path=\"url(#clip1102)\" style=\"fill:#009af9; stroke:none; fill-opacity:1\" cx=\"391.063\" cy=\"1050.12\" r=\"14\"/>\n",
       "<circle clip-path=\"url(#clip1102)\" style=\"fill:#000000; stroke:none; fill-opacity:1\" cx=\"391.063\" cy=\"775.359\" r=\"18\"/>\n",
       "<circle clip-path=\"url(#clip1102)\" style=\"fill:#009af9; stroke:none; fill-opacity:1\" cx=\"391.063\" cy=\"775.359\" r=\"14\"/>\n",
       "<circle clip-path=\"url(#clip1102)\" style=\"fill:#000000; stroke:none; fill-opacity:1\" cx=\"391.063\" cy=\"500.599\" r=\"18\"/>\n",
       "<circle clip-path=\"url(#clip1102)\" style=\"fill:#009af9; stroke:none; fill-opacity:1\" cx=\"391.063\" cy=\"500.599\" r=\"14\"/>\n",
       "<circle clip-path=\"url(#clip1102)\" style=\"fill:#000000; stroke:none; fill-opacity:1\" cx=\"391.063\" cy=\"225.838\" r=\"18\"/>\n",
       "<circle clip-path=\"url(#clip1102)\" style=\"fill:#009af9; stroke:none; fill-opacity:1\" cx=\"391.063\" cy=\"225.838\" r=\"14\"/>\n",
       "<circle clip-path=\"url(#clip1102)\" style=\"fill:#000000; stroke:none; fill-opacity:1\" cx=\"806.159\" cy=\"1324.88\" r=\"18\"/>\n",
       "<circle clip-path=\"url(#clip1102)\" style=\"fill:#009af9; stroke:none; fill-opacity:1\" cx=\"806.159\" cy=\"1324.88\" r=\"14\"/>\n",
       "<circle clip-path=\"url(#clip1102)\" style=\"fill:#000000; stroke:none; fill-opacity:1\" cx=\"806.159\" cy=\"1050.12\" r=\"18\"/>\n",
       "<circle clip-path=\"url(#clip1102)\" style=\"fill:#009af9; stroke:none; fill-opacity:1\" cx=\"806.159\" cy=\"1050.12\" r=\"14\"/>\n",
       "<circle clip-path=\"url(#clip1102)\" style=\"fill:#000000; stroke:none; fill-opacity:1\" cx=\"806.159\" cy=\"775.359\" r=\"18\"/>\n",
       "<circle clip-path=\"url(#clip1102)\" style=\"fill:#009af9; stroke:none; fill-opacity:1\" cx=\"806.159\" cy=\"775.359\" r=\"14\"/>\n",
       "<circle clip-path=\"url(#clip1102)\" style=\"fill:#000000; stroke:none; fill-opacity:1\" cx=\"806.159\" cy=\"500.599\" r=\"18\"/>\n",
       "<circle clip-path=\"url(#clip1102)\" style=\"fill:#009af9; stroke:none; fill-opacity:1\" cx=\"806.159\" cy=\"500.599\" r=\"14\"/>\n",
       "<circle clip-path=\"url(#clip1102)\" style=\"fill:#000000; stroke:none; fill-opacity:1\" cx=\"806.159\" cy=\"225.838\" r=\"18\"/>\n",
       "<circle clip-path=\"url(#clip1102)\" style=\"fill:#009af9; stroke:none; fill-opacity:1\" cx=\"806.159\" cy=\"225.838\" r=\"14\"/>\n",
       "<circle clip-path=\"url(#clip1102)\" style=\"fill:#000000; stroke:none; fill-opacity:1\" cx=\"1221.26\" cy=\"1324.88\" r=\"18\"/>\n",
       "<circle clip-path=\"url(#clip1102)\" style=\"fill:#009af9; stroke:none; fill-opacity:1\" cx=\"1221.26\" cy=\"1324.88\" r=\"14\"/>\n",
       "<circle clip-path=\"url(#clip1102)\" style=\"fill:#000000; stroke:none; fill-opacity:1\" cx=\"1221.26\" cy=\"1050.12\" r=\"18\"/>\n",
       "<circle clip-path=\"url(#clip1102)\" style=\"fill:#009af9; stroke:none; fill-opacity:1\" cx=\"1221.26\" cy=\"1050.12\" r=\"14\"/>\n",
       "<circle clip-path=\"url(#clip1102)\" style=\"fill:#000000; stroke:none; fill-opacity:1\" cx=\"1221.26\" cy=\"775.359\" r=\"18\"/>\n",
       "<circle clip-path=\"url(#clip1102)\" style=\"fill:#009af9; stroke:none; fill-opacity:1\" cx=\"1221.26\" cy=\"775.359\" r=\"14\"/>\n",
       "<circle clip-path=\"url(#clip1102)\" style=\"fill:#000000; stroke:none; fill-opacity:1\" cx=\"1221.26\" cy=\"500.599\" r=\"18\"/>\n",
       "<circle clip-path=\"url(#clip1102)\" style=\"fill:#009af9; stroke:none; fill-opacity:1\" cx=\"1221.26\" cy=\"500.599\" r=\"14\"/>\n",
       "<circle clip-path=\"url(#clip1102)\" style=\"fill:#000000; stroke:none; fill-opacity:1\" cx=\"1221.26\" cy=\"225.838\" r=\"18\"/>\n",
       "<circle clip-path=\"url(#clip1102)\" style=\"fill:#009af9; stroke:none; fill-opacity:1\" cx=\"1221.26\" cy=\"225.838\" r=\"14\"/>\n",
       "<circle clip-path=\"url(#clip1102)\" style=\"fill:#000000; stroke:none; fill-opacity:1\" cx=\"1636.35\" cy=\"1324.88\" r=\"18\"/>\n",
       "<circle clip-path=\"url(#clip1102)\" style=\"fill:#009af9; stroke:none; fill-opacity:1\" cx=\"1636.35\" cy=\"1324.88\" r=\"14\"/>\n",
       "<circle clip-path=\"url(#clip1102)\" style=\"fill:#000000; stroke:none; fill-opacity:1\" cx=\"1636.35\" cy=\"1050.12\" r=\"18\"/>\n",
       "<circle clip-path=\"url(#clip1102)\" style=\"fill:#009af9; stroke:none; fill-opacity:1\" cx=\"1636.35\" cy=\"1050.12\" r=\"14\"/>\n",
       "<circle clip-path=\"url(#clip1102)\" style=\"fill:#000000; stroke:none; fill-opacity:1\" cx=\"1636.35\" cy=\"775.359\" r=\"18\"/>\n",
       "<circle clip-path=\"url(#clip1102)\" style=\"fill:#009af9; stroke:none; fill-opacity:1\" cx=\"1636.35\" cy=\"775.359\" r=\"14\"/>\n",
       "<circle clip-path=\"url(#clip1102)\" style=\"fill:#000000; stroke:none; fill-opacity:1\" cx=\"1636.35\" cy=\"500.599\" r=\"18\"/>\n",
       "<circle clip-path=\"url(#clip1102)\" style=\"fill:#009af9; stroke:none; fill-opacity:1\" cx=\"1636.35\" cy=\"500.599\" r=\"14\"/>\n",
       "<circle clip-path=\"url(#clip1102)\" style=\"fill:#000000; stroke:none; fill-opacity:1\" cx=\"1636.35\" cy=\"225.838\" r=\"18\"/>\n",
       "<circle clip-path=\"url(#clip1102)\" style=\"fill:#009af9; stroke:none; fill-opacity:1\" cx=\"1636.35\" cy=\"225.838\" r=\"14\"/>\n",
       "<circle clip-path=\"url(#clip1102)\" style=\"fill:#000000; stroke:none; fill-opacity:1\" cx=\"2051.45\" cy=\"1324.88\" r=\"18\"/>\n",
       "<circle clip-path=\"url(#clip1102)\" style=\"fill:#009af9; stroke:none; fill-opacity:1\" cx=\"2051.45\" cy=\"1324.88\" r=\"14\"/>\n",
       "<circle clip-path=\"url(#clip1102)\" style=\"fill:#000000; stroke:none; fill-opacity:1\" cx=\"2051.45\" cy=\"1050.12\" r=\"18\"/>\n",
       "<circle clip-path=\"url(#clip1102)\" style=\"fill:#009af9; stroke:none; fill-opacity:1\" cx=\"2051.45\" cy=\"1050.12\" r=\"14\"/>\n",
       "<circle clip-path=\"url(#clip1102)\" style=\"fill:#000000; stroke:none; fill-opacity:1\" cx=\"2051.45\" cy=\"775.359\" r=\"18\"/>\n",
       "<circle clip-path=\"url(#clip1102)\" style=\"fill:#009af9; stroke:none; fill-opacity:1\" cx=\"2051.45\" cy=\"775.359\" r=\"14\"/>\n",
       "<circle clip-path=\"url(#clip1102)\" style=\"fill:#000000; stroke:none; fill-opacity:1\" cx=\"2051.45\" cy=\"500.599\" r=\"18\"/>\n",
       "<circle clip-path=\"url(#clip1102)\" style=\"fill:#009af9; stroke:none; fill-opacity:1\" cx=\"2051.45\" cy=\"500.599\" r=\"14\"/>\n",
       "<circle clip-path=\"url(#clip1102)\" style=\"fill:#000000; stroke:none; fill-opacity:1\" cx=\"2051.45\" cy=\"225.838\" r=\"18\"/>\n",
       "<circle clip-path=\"url(#clip1102)\" style=\"fill:#009af9; stroke:none; fill-opacity:1\" cx=\"2051.45\" cy=\"225.838\" r=\"14\"/>\n",
       "<polyline clip-path=\"url(#clip1102)\" style=\"stroke:#e26f46; stroke-width:4; stroke-opacity:1; fill:none\" points=\"\n",
       "  183.515,1462.26 2259,1462.26 2259,88.4582 183.515,88.4582 183.515,1462.26 \n",
       "  \"/>\n",
       "</svg>\n"
      ]
     },
     "execution_count": 66,
     "metadata": {},
     "output_type": "execute_result"
    }
   ],
   "source": [
    "L33 = 5\n",
    "N33 = 25\n",
    "\n",
    "xx33, yy33 = cond_ini(L33, N33)\n",
    "p = plot(leg=false)\n",
    "scatter!(xx33, yy33)\n",
    "plot!([0,L33,L33,0,0],[0,0,L33,L33,0])\n",
    "\n"
   ]
  },
  {
   "cell_type": "code",
   "execution_count": 67,
   "metadata": {},
   "outputs": [
    {
     "data": {
      "image/svg+xml": [
       "<?xml version=\"1.0\" encoding=\"utf-8\"?>\n",
       "<svg xmlns=\"http://www.w3.org/2000/svg\" xmlns:xlink=\"http://www.w3.org/1999/xlink\" width=\"600\" height=\"400\" viewBox=\"0 0 2400 1600\">\n",
       "<defs>\n",
       "  <clipPath id=\"clip1500\">\n",
       "    <rect x=\"0\" y=\"0\" width=\"2400\" height=\"1600\"/>\n",
       "  </clipPath>\n",
       "</defs>\n",
       "<path clip-path=\"url(#clip1500)\" d=\"\n",
       "M0 1600 L2400 1600 L2400 0 L0 0  Z\n",
       "  \" fill=\"#ffffff\" fill-rule=\"evenodd\" fill-opacity=\"1\"/>\n",
       "<defs>\n",
       "  <clipPath id=\"clip1501\">\n",
       "    <rect x=\"480\" y=\"0\" width=\"1681\" height=\"1600\"/>\n",
       "  </clipPath>\n",
       "</defs>\n",
       "<path clip-path=\"url(#clip1500)\" d=\"\n",
       "M121.251 1503.47 L2321.26 1503.47 L2321.26 47.2441 L121.251 47.2441  Z\n",
       "  \" fill=\"#ffffff\" fill-rule=\"evenodd\" fill-opacity=\"1\"/>\n",
       "<defs>\n",
       "  <clipPath id=\"clip1502\">\n",
       "    <rect x=\"121\" y=\"47\" width=\"2201\" height=\"1457\"/>\n",
       "  </clipPath>\n",
       "</defs>\n",
       "<polyline clip-path=\"url(#clip1502)\" style=\"stroke:#000000; stroke-width:2; stroke-opacity:0.1; fill:none\" points=\"\n",
       "  183.515,1503.47 183.515,47.2441 \n",
       "  \"/>\n",
       "<polyline clip-path=\"url(#clip1502)\" style=\"stroke:#000000; stroke-width:2; stroke-opacity:0.1; fill:none\" points=\"\n",
       "  598.611,1503.47 598.611,47.2441 \n",
       "  \"/>\n",
       "<polyline clip-path=\"url(#clip1502)\" style=\"stroke:#000000; stroke-width:2; stroke-opacity:0.1; fill:none\" points=\"\n",
       "  1013.71,1503.47 1013.71,47.2441 \n",
       "  \"/>\n",
       "<polyline clip-path=\"url(#clip1502)\" style=\"stroke:#000000; stroke-width:2; stroke-opacity:0.1; fill:none\" points=\"\n",
       "  1428.8,1503.47 1428.8,47.2441 \n",
       "  \"/>\n",
       "<polyline clip-path=\"url(#clip1502)\" style=\"stroke:#000000; stroke-width:2; stroke-opacity:0.1; fill:none\" points=\"\n",
       "  1843.9,1503.47 1843.9,47.2441 \n",
       "  \"/>\n",
       "<polyline clip-path=\"url(#clip1502)\" style=\"stroke:#000000; stroke-width:2; stroke-opacity:0.1; fill:none\" points=\"\n",
       "  2259,1503.47 2259,47.2441 \n",
       "  \"/>\n",
       "<polyline clip-path=\"url(#clip1502)\" style=\"stroke:#000000; stroke-width:2; stroke-opacity:0.1; fill:none\" points=\"\n",
       "  121.251,1462.26 2321.26,1462.26 \n",
       "  \"/>\n",
       "<polyline clip-path=\"url(#clip1502)\" style=\"stroke:#000000; stroke-width:2; stroke-opacity:0.1; fill:none\" points=\"\n",
       "  121.251,1187.5 2321.26,1187.5 \n",
       "  \"/>\n",
       "<polyline clip-path=\"url(#clip1502)\" style=\"stroke:#000000; stroke-width:2; stroke-opacity:0.1; fill:none\" points=\"\n",
       "  121.251,912.74 2321.26,912.74 \n",
       "  \"/>\n",
       "<polyline clip-path=\"url(#clip1502)\" style=\"stroke:#000000; stroke-width:2; stroke-opacity:0.1; fill:none\" points=\"\n",
       "  121.251,637.979 2321.26,637.979 \n",
       "  \"/>\n",
       "<polyline clip-path=\"url(#clip1502)\" style=\"stroke:#000000; stroke-width:2; stroke-opacity:0.1; fill:none\" points=\"\n",
       "  121.251,363.219 2321.26,363.219 \n",
       "  \"/>\n",
       "<polyline clip-path=\"url(#clip1502)\" style=\"stroke:#000000; stroke-width:2; stroke-opacity:0.1; fill:none\" points=\"\n",
       "  121.251,88.4582 2321.26,88.4582 \n",
       "  \"/>\n",
       "<polyline clip-path=\"url(#clip1500)\" style=\"stroke:#000000; stroke-width:4; stroke-opacity:1; fill:none\" points=\"\n",
       "  121.251,1503.47 2321.26,1503.47 \n",
       "  \"/>\n",
       "<polyline clip-path=\"url(#clip1500)\" style=\"stroke:#000000; stroke-width:4; stroke-opacity:1; fill:none\" points=\"\n",
       "  121.251,1503.47 121.251,47.2441 \n",
       "  \"/>\n",
       "<polyline clip-path=\"url(#clip1500)\" style=\"stroke:#000000; stroke-width:4; stroke-opacity:1; fill:none\" points=\"\n",
       "  183.515,1503.47 183.515,1481.63 \n",
       "  \"/>\n",
       "<polyline clip-path=\"url(#clip1500)\" style=\"stroke:#000000; stroke-width:4; stroke-opacity:1; fill:none\" points=\"\n",
       "  598.611,1503.47 598.611,1481.63 \n",
       "  \"/>\n",
       "<polyline clip-path=\"url(#clip1500)\" style=\"stroke:#000000; stroke-width:4; stroke-opacity:1; fill:none\" points=\"\n",
       "  1013.71,1503.47 1013.71,1481.63 \n",
       "  \"/>\n",
       "<polyline clip-path=\"url(#clip1500)\" style=\"stroke:#000000; stroke-width:4; stroke-opacity:1; fill:none\" points=\"\n",
       "  1428.8,1503.47 1428.8,1481.63 \n",
       "  \"/>\n",
       "<polyline clip-path=\"url(#clip1500)\" style=\"stroke:#000000; stroke-width:4; stroke-opacity:1; fill:none\" points=\"\n",
       "  1843.9,1503.47 1843.9,1481.63 \n",
       "  \"/>\n",
       "<polyline clip-path=\"url(#clip1500)\" style=\"stroke:#000000; stroke-width:4; stroke-opacity:1; fill:none\" points=\"\n",
       "  2259,1503.47 2259,1481.63 \n",
       "  \"/>\n",
       "<polyline clip-path=\"url(#clip1500)\" style=\"stroke:#000000; stroke-width:4; stroke-opacity:1; fill:none\" points=\"\n",
       "  121.251,1462.26 154.251,1462.26 \n",
       "  \"/>\n",
       "<polyline clip-path=\"url(#clip1500)\" style=\"stroke:#000000; stroke-width:4; stroke-opacity:1; fill:none\" points=\"\n",
       "  121.251,1187.5 154.251,1187.5 \n",
       "  \"/>\n",
       "<polyline clip-path=\"url(#clip1500)\" style=\"stroke:#000000; stroke-width:4; stroke-opacity:1; fill:none\" points=\"\n",
       "  121.251,912.74 154.251,912.74 \n",
       "  \"/>\n",
       "<polyline clip-path=\"url(#clip1500)\" style=\"stroke:#000000; stroke-width:4; stroke-opacity:1; fill:none\" points=\"\n",
       "  121.251,637.979 154.251,637.979 \n",
       "  \"/>\n",
       "<polyline clip-path=\"url(#clip1500)\" style=\"stroke:#000000; stroke-width:4; stroke-opacity:1; fill:none\" points=\"\n",
       "  121.251,363.219 154.251,363.219 \n",
       "  \"/>\n",
       "<polyline clip-path=\"url(#clip1500)\" style=\"stroke:#000000; stroke-width:4; stroke-opacity:1; fill:none\" points=\"\n",
       "  121.251,88.4582 154.251,88.4582 \n",
       "  \"/>\n",
       "<g clip-path=\"url(#clip1500)\">\n",
       "<text style=\"fill:#000000; fill-opacity:1; font-family:Arial,Helvetica Neue,Helvetica,sans-serif; font-size:48px; text-anchor:middle;\" transform=\"rotate(0, 183.515, 1557.47)\" x=\"183.515\" y=\"1557.47\">0</text>\n",
       "</g>\n",
       "<g clip-path=\"url(#clip1500)\">\n",
       "<text style=\"fill:#000000; fill-opacity:1; font-family:Arial,Helvetica Neue,Helvetica,sans-serif; font-size:48px; text-anchor:middle;\" transform=\"rotate(0, 598.611, 1557.47)\" x=\"598.611\" y=\"1557.47\">1</text>\n",
       "</g>\n",
       "<g clip-path=\"url(#clip1500)\">\n",
       "<text style=\"fill:#000000; fill-opacity:1; font-family:Arial,Helvetica Neue,Helvetica,sans-serif; font-size:48px; text-anchor:middle;\" transform=\"rotate(0, 1013.71, 1557.47)\" x=\"1013.71\" y=\"1557.47\">2</text>\n",
       "</g>\n",
       "<g clip-path=\"url(#clip1500)\">\n",
       "<text style=\"fill:#000000; fill-opacity:1; font-family:Arial,Helvetica Neue,Helvetica,sans-serif; font-size:48px; text-anchor:middle;\" transform=\"rotate(0, 1428.8, 1557.47)\" x=\"1428.8\" y=\"1557.47\">3</text>\n",
       "</g>\n",
       "<g clip-path=\"url(#clip1500)\">\n",
       "<text style=\"fill:#000000; fill-opacity:1; font-family:Arial,Helvetica Neue,Helvetica,sans-serif; font-size:48px; text-anchor:middle;\" transform=\"rotate(0, 1843.9, 1557.47)\" x=\"1843.9\" y=\"1557.47\">4</text>\n",
       "</g>\n",
       "<g clip-path=\"url(#clip1500)\">\n",
       "<text style=\"fill:#000000; fill-opacity:1; font-family:Arial,Helvetica Neue,Helvetica,sans-serif; font-size:48px; text-anchor:middle;\" transform=\"rotate(0, 2259, 1557.47)\" x=\"2259\" y=\"1557.47\">5</text>\n",
       "</g>\n",
       "<g clip-path=\"url(#clip1500)\">\n",
       "<text style=\"fill:#000000; fill-opacity:1; font-family:Arial,Helvetica Neue,Helvetica,sans-serif; font-size:48px; text-anchor:end;\" transform=\"rotate(0, 97.2505, 1479.76)\" x=\"97.2505\" y=\"1479.76\">0</text>\n",
       "</g>\n",
       "<g clip-path=\"url(#clip1500)\">\n",
       "<text style=\"fill:#000000; fill-opacity:1; font-family:Arial,Helvetica Neue,Helvetica,sans-serif; font-size:48px; text-anchor:end;\" transform=\"rotate(0, 97.2505, 1205)\" x=\"97.2505\" y=\"1205\">1</text>\n",
       "</g>\n",
       "<g clip-path=\"url(#clip1500)\">\n",
       "<text style=\"fill:#000000; fill-opacity:1; font-family:Arial,Helvetica Neue,Helvetica,sans-serif; font-size:48px; text-anchor:end;\" transform=\"rotate(0, 97.2505, 930.24)\" x=\"97.2505\" y=\"930.24\">2</text>\n",
       "</g>\n",
       "<g clip-path=\"url(#clip1500)\">\n",
       "<text style=\"fill:#000000; fill-opacity:1; font-family:Arial,Helvetica Neue,Helvetica,sans-serif; font-size:48px; text-anchor:end;\" transform=\"rotate(0, 97.2505, 655.479)\" x=\"97.2505\" y=\"655.479\">3</text>\n",
       "</g>\n",
       "<g clip-path=\"url(#clip1500)\">\n",
       "<text style=\"fill:#000000; fill-opacity:1; font-family:Arial,Helvetica Neue,Helvetica,sans-serif; font-size:48px; text-anchor:end;\" transform=\"rotate(0, 97.2505, 380.719)\" x=\"97.2505\" y=\"380.719\">4</text>\n",
       "</g>\n",
       "<g clip-path=\"url(#clip1500)\">\n",
       "<text style=\"fill:#000000; fill-opacity:1; font-family:Arial,Helvetica Neue,Helvetica,sans-serif; font-size:48px; text-anchor:end;\" transform=\"rotate(0, 97.2505, 105.958)\" x=\"97.2505\" y=\"105.958\">5</text>\n",
       "</g>\n",
       "<circle clip-path=\"url(#clip1502)\" style=\"fill:#000000; stroke:none; fill-opacity:1\" cx=\"382.266\" cy=\"1355.09\" r=\"18\"/>\n",
       "<circle clip-path=\"url(#clip1502)\" style=\"fill:#009af9; stroke:none; fill-opacity:1\" cx=\"382.266\" cy=\"1355.09\" r=\"14\"/>\n",
       "<circle clip-path=\"url(#clip1502)\" style=\"fill:#000000; stroke:none; fill-opacity:1\" cx=\"357.502\" cy=\"1075\" r=\"18\"/>\n",
       "<circle clip-path=\"url(#clip1502)\" style=\"fill:#009af9; stroke:none; fill-opacity:1\" cx=\"357.502\" cy=\"1075\" r=\"14\"/>\n",
       "<circle clip-path=\"url(#clip1502)\" style=\"fill:#000000; stroke:none; fill-opacity:1\" cx=\"389.551\" cy=\"795.706\" r=\"18\"/>\n",
       "<circle clip-path=\"url(#clip1502)\" style=\"fill:#009af9; stroke:none; fill-opacity:1\" cx=\"389.551\" cy=\"795.706\" r=\"14\"/>\n",
       "<circle clip-path=\"url(#clip1502)\" style=\"fill:#000000; stroke:none; fill-opacity:1\" cx=\"395.687\" cy=\"546.905\" r=\"18\"/>\n",
       "<circle clip-path=\"url(#clip1502)\" style=\"fill:#009af9; stroke:none; fill-opacity:1\" cx=\"395.687\" cy=\"546.905\" r=\"14\"/>\n",
       "<circle clip-path=\"url(#clip1502)\" style=\"fill:#000000; stroke:none; fill-opacity:1\" cx=\"399.956\" cy=\"205.106\" r=\"18\"/>\n",
       "<circle clip-path=\"url(#clip1502)\" style=\"fill:#009af9; stroke:none; fill-opacity:1\" cx=\"399.956\" cy=\"205.106\" r=\"14\"/>\n",
       "<circle clip-path=\"url(#clip1502)\" style=\"fill:#000000; stroke:none; fill-opacity:1\" cx=\"777.59\" cy=\"1313.71\" r=\"18\"/>\n",
       "<circle clip-path=\"url(#clip1502)\" style=\"fill:#009af9; stroke:none; fill-opacity:1\" cx=\"777.59\" cy=\"1313.71\" r=\"14\"/>\n",
       "<circle clip-path=\"url(#clip1502)\" style=\"fill:#000000; stroke:none; fill-opacity:1\" cx=\"763.814\" cy=\"1068.08\" r=\"18\"/>\n",
       "<circle clip-path=\"url(#clip1502)\" style=\"fill:#009af9; stroke:none; fill-opacity:1\" cx=\"763.814\" cy=\"1068.08\" r=\"14\"/>\n",
       "<circle clip-path=\"url(#clip1502)\" style=\"fill:#000000; stroke:none; fill-opacity:1\" cx=\"879.955\" cy=\"720.903\" r=\"18\"/>\n",
       "<circle clip-path=\"url(#clip1502)\" style=\"fill:#009af9; stroke:none; fill-opacity:1\" cx=\"879.955\" cy=\"720.903\" r=\"14\"/>\n",
       "<circle clip-path=\"url(#clip1502)\" style=\"fill:#000000; stroke:none; fill-opacity:1\" cx=\"824.807\" cy=\"550.444\" r=\"18\"/>\n",
       "<circle clip-path=\"url(#clip1502)\" style=\"fill:#009af9; stroke:none; fill-opacity:1\" cx=\"824.807\" cy=\"550.444\" r=\"14\"/>\n",
       "<circle clip-path=\"url(#clip1502)\" style=\"fill:#000000; stroke:none; fill-opacity:1\" cx=\"847.488\" cy=\"247.61\" r=\"18\"/>\n",
       "<circle clip-path=\"url(#clip1502)\" style=\"fill:#009af9; stroke:none; fill-opacity:1\" cx=\"847.488\" cy=\"247.61\" r=\"14\"/>\n",
       "<circle clip-path=\"url(#clip1502)\" style=\"fill:#000000; stroke:none; fill-opacity:1\" cx=\"1265.82\" cy=\"1340.71\" r=\"18\"/>\n",
       "<circle clip-path=\"url(#clip1502)\" style=\"fill:#009af9; stroke:none; fill-opacity:1\" cx=\"1265.82\" cy=\"1340.71\" r=\"14\"/>\n",
       "<circle clip-path=\"url(#clip1502)\" style=\"fill:#000000; stroke:none; fill-opacity:1\" cx=\"1178.43\" cy=\"1046.88\" r=\"18\"/>\n",
       "<circle clip-path=\"url(#clip1502)\" style=\"fill:#009af9; stroke:none; fill-opacity:1\" cx=\"1178.43\" cy=\"1046.88\" r=\"14\"/>\n",
       "<circle clip-path=\"url(#clip1502)\" style=\"fill:#000000; stroke:none; fill-opacity:1\" cx=\"1282.42\" cy=\"769.747\" r=\"18\"/>\n",
       "<circle clip-path=\"url(#clip1502)\" style=\"fill:#009af9; stroke:none; fill-opacity:1\" cx=\"1282.42\" cy=\"769.747\" r=\"14\"/>\n",
       "<circle clip-path=\"url(#clip1502)\" style=\"fill:#000000; stroke:none; fill-opacity:1\" cx=\"1300.95\" cy=\"553.104\" r=\"18\"/>\n",
       "<circle clip-path=\"url(#clip1502)\" style=\"fill:#009af9; stroke:none; fill-opacity:1\" cx=\"1300.95\" cy=\"553.104\" r=\"14\"/>\n",
       "<circle clip-path=\"url(#clip1502)\" style=\"fill:#000000; stroke:none; fill-opacity:1\" cx=\"1181.06\" cy=\"266.97\" r=\"18\"/>\n",
       "<circle clip-path=\"url(#clip1502)\" style=\"fill:#009af9; stroke:none; fill-opacity:1\" cx=\"1181.06\" cy=\"266.97\" r=\"14\"/>\n",
       "<circle clip-path=\"url(#clip1502)\" style=\"fill:#000000; stroke:none; fill-opacity:1\" cx=\"1651.95\" cy=\"1317.19\" r=\"18\"/>\n",
       "<circle clip-path=\"url(#clip1502)\" style=\"fill:#009af9; stroke:none; fill-opacity:1\" cx=\"1651.95\" cy=\"1317.19\" r=\"14\"/>\n",
       "<circle clip-path=\"url(#clip1502)\" style=\"fill:#000000; stroke:none; fill-opacity:1\" cx=\"1630.9\" cy=\"1029.8\" r=\"18\"/>\n",
       "<circle clip-path=\"url(#clip1502)\" style=\"fill:#009af9; stroke:none; fill-opacity:1\" cx=\"1630.9\" cy=\"1029.8\" r=\"14\"/>\n",
       "<circle clip-path=\"url(#clip1502)\" style=\"fill:#000000; stroke:none; fill-opacity:1\" cx=\"1584.14\" cy=\"755.827\" r=\"18\"/>\n",
       "<circle clip-path=\"url(#clip1502)\" style=\"fill:#009af9; stroke:none; fill-opacity:1\" cx=\"1584.14\" cy=\"755.827\" r=\"14\"/>\n",
       "<circle clip-path=\"url(#clip1502)\" style=\"fill:#000000; stroke:none; fill-opacity:1\" cx=\"1617.97\" cy=\"483.035\" r=\"18\"/>\n",
       "<circle clip-path=\"url(#clip1502)\" style=\"fill:#009af9; stroke:none; fill-opacity:1\" cx=\"1617.97\" cy=\"483.035\" r=\"14\"/>\n",
       "<circle clip-path=\"url(#clip1502)\" style=\"fill:#000000; stroke:none; fill-opacity:1\" cx=\"1618.74\" cy=\"218.301\" r=\"18\"/>\n",
       "<circle clip-path=\"url(#clip1502)\" style=\"fill:#009af9; stroke:none; fill-opacity:1\" cx=\"1618.74\" cy=\"218.301\" r=\"14\"/>\n",
       "<circle clip-path=\"url(#clip1502)\" style=\"fill:#000000; stroke:none; fill-opacity:1\" cx=\"2034.26\" cy=\"1352.04\" r=\"18\"/>\n",
       "<circle clip-path=\"url(#clip1502)\" style=\"fill:#009af9; stroke:none; fill-opacity:1\" cx=\"2034.26\" cy=\"1352.04\" r=\"14\"/>\n",
       "<circle clip-path=\"url(#clip1502)\" style=\"fill:#000000; stroke:none; fill-opacity:1\" cx=\"2056.34\" cy=\"1075.22\" r=\"18\"/>\n",
       "<circle clip-path=\"url(#clip1502)\" style=\"fill:#009af9; stroke:none; fill-opacity:1\" cx=\"2056.34\" cy=\"1075.22\" r=\"14\"/>\n",
       "<circle clip-path=\"url(#clip1502)\" style=\"fill:#000000; stroke:none; fill-opacity:1\" cx=\"2098.95\" cy=\"780.131\" r=\"18\"/>\n",
       "<circle clip-path=\"url(#clip1502)\" style=\"fill:#009af9; stroke:none; fill-opacity:1\" cx=\"2098.95\" cy=\"780.131\" r=\"14\"/>\n",
       "<circle clip-path=\"url(#clip1502)\" style=\"fill:#000000; stroke:none; fill-opacity:1\" cx=\"2130.93\" cy=\"513.715\" r=\"18\"/>\n",
       "<circle clip-path=\"url(#clip1502)\" style=\"fill:#009af9; stroke:none; fill-opacity:1\" cx=\"2130.93\" cy=\"513.715\" r=\"14\"/>\n",
       "<circle clip-path=\"url(#clip1502)\" style=\"fill:#000000; stroke:none; fill-opacity:1\" cx=\"2050.11\" cy=\"278.257\" r=\"18\"/>\n",
       "<circle clip-path=\"url(#clip1502)\" style=\"fill:#009af9; stroke:none; fill-opacity:1\" cx=\"2050.11\" cy=\"278.257\" r=\"14\"/>\n",
       "<polyline clip-path=\"url(#clip1502)\" style=\"stroke:#e26f46; stroke-width:4; stroke-opacity:1; fill:none\" points=\"\n",
       "  183.515,1462.26 2259,1462.26 2259,88.4582 183.515,88.4582 183.515,1462.26 \n",
       "  \"/>\n",
       "</svg>\n"
      ]
     },
     "execution_count": 67,
     "metadata": {},
     "output_type": "execute_result"
    }
   ],
   "source": [
    "xx44, yy44 = cond_ran(L33, N33)\n",
    "p = plot(leg=false)\n",
    "scatter!(xx44, yy44)\n",
    "plot!([0,L33,L33,0,0],[0,0,L33,L33,0])\n",
    "\n"
   ]
  },
  {
   "cell_type": "code",
   "execution_count": 68,
   "metadata": {},
   "outputs": [],
   "source": [
    "#Condiciones Iniciales\n",
    "\n",
    "L = 9.0 #siempre impar\n",
    "N = 3^2  #perfect square\n",
    "α = L/sqrt(N)  #mayor a 2;\n",
    "dt = 0.002\n",
    "T = 20\n",
    "v0 = 10\n",
    "\n",
    "#Posiciones iniciales (cond_ini)para orden (cond_ran) para semidesorden\n",
    "\n",
    "xx_0, yy_0 = cond_ran(L, N)\n",
    "\n",
    "#Velocidades iniciales aleatoria de magnitud v0\n",
    "vx_0 =[ rand(0:0.0001:v0)*(2*rand(Bool)-1) for i in 1:N]\n",
    "vy_0 =[ sqrt(v0^2-vx_0[i]^2)*(2*rand(Bool)-1) for i in 1:N] \n",
    "\n",
    "#Aplicamos el método verlet\n",
    "xxx, yyy, vxx, vyy = verlet(xx_0, yy_0, vx_0, vy_0, dt, aa, T, L);\n",
    "\n",
    "\n",
    "\n",
    "\n"
   ]
  },
  {
   "cell_type": "code",
   "execution_count": 69,
   "metadata": {},
   "outputs": [
    {
     "data": {
      "text/plain": [
       "9×10001 Array{Any,2}:\n",
       " 1.47201  1.45263  1.43324  1.41385  1.39446  …  8.63763   8.70627   8.77491 \n",
       " 4.55424  4.57403  4.59382  4.61361  4.63341     4.99737   4.99877   5.00017 \n",
       " 7.77068  7.75543  7.74017  7.72492  7.70966     7.3273    7.31497   7.30264 \n",
       " 1.49616  1.50873  1.5213   1.53387  1.54644     2.49898   2.42406   2.34913 \n",
       " 3.8507   3.83986  3.82901  3.81817  3.80732     0.633214  0.694979  0.756742\n",
       " 7.11303  7.13035  7.14767  7.16499  7.18231  …  7.85724   7.76877   7.67712 \n",
       " 1.41211  1.39833  1.38454  1.37076  1.35698     2.65374   2.67379   2.68786 \n",
       " 4.36368  4.34543  4.32718  4.30894  4.29069     3.03866   3.04399   3.05529 \n",
       " 7.24275  7.23228  7.22181  7.21134  7.20086     7.91598   7.93018   7.94757 "
      ]
     },
     "execution_count": 69,
     "metadata": {},
     "output_type": "execute_result"
    }
   ],
   "source": [
    "Mx = reduce(hcat,xxx)\n",
    "My = reduce(hcat,yyy)"
   ]
  },
  {
   "cell_type": "code",
   "execution_count": 70,
   "metadata": {},
   "outputs": [
    {
     "name": "stderr",
     "output_type": "stream",
     "text": [
      "┌ Info: Saved animation to \n",
      "│   fn = C:\\Users\\Felix\\anim_fps30.gif\n",
      "└ @ Plots C:\\Users\\Felix\\.julia\\packages\\Plots\\47Tik\\src\\animation.jl:90\n"
     ]
    },
    {
     "data": {
      "text/html": [
       "<img src=\"anim_fps30.gif\" />"
      ],
      "text/plain": [
       "Plots.AnimatedGif(\"C:\\\\Users\\\\Felix\\\\anim_fps30.gif\")"
      ]
     },
     "execution_count": 70,
     "metadata": {},
     "output_type": "execute_result"
    }
   ],
   "source": [
    "\n",
    "anim = @animate for i in 1:size(Mx,2)#, j in 1:N\n",
    "\n",
    "    XX = [Mx[j,i] for j in 1:N]\n",
    "    YY = [My[j,i] for j in 1:N]\n",
    "    scatter!(XX, YY, lims=(-1,L+1), ms=8, leg=false, m=:o, aspect_ratio=1)\n",
    "#end\n",
    "    \n",
    "end\n",
    "\n",
    "#frames = trunc(Int, 1/dt) # para animación en tiempo real\n",
    "gif(anim, \"Gas_fps30.gif\", fps = 30)"
   ]
  },
  {
   "cell_type": "code",
   "execution_count": null,
   "metadata": {},
   "outputs": [],
   "source": [
    "for i in 1:size(Mx,2)\n",
    " \n",
    "p =plot([0,0,L,L,0],[0,L,L,0,0], linewidth=:3)\n",
    "\n",
    "for j in 1:N\n",
    "XX = [Mx[j,i]]\n",
    "YY = [My[j,i]]\n",
    "\n",
    "\n",
    "plot!(XX, YY, lims=(-1,L+1), ms=8, leg=false, m=:o, aspect_ratio=1)\n",
    "\n",
    "end\n",
    "@show p\n",
    "end\n"
   ]
  },
  {
   "cell_type": "code",
   "execution_count": null,
   "metadata": {},
   "outputs": [],
   "source": [
    "plot([0,0,L,L,0],[0,L,L,0,0], linewidth=:3)\n",
    "\n",
    "# for j in 1:N\n",
    "XX = [Mx[1,i]]\n",
    "YY = [My[1,i]]\n",
    "    \n",
    "anim = @animate for i in 1:size(Mx,2)\n",
    "    plot(...)\n",
    "    plot!(XX, YY, lims=(-1,L+1), ms=8, leg=false, m=:o, aspect_ratio=1)\n",
    "end\n",
    "gif(anim, \"/tmp/anim_fps15.gif\", fps = 15)\n",
    "gif(anim, \"/tmp/anim_fps30.gif\", fps = 30)"
   ]
  },
  {
   "cell_type": "code",
   "execution_count": null,
   "metadata": {},
   "outputs": [],
   "source": [
    "plot([0,0,L,L,0],[0,L,L,0,0], linewidth=:3)\n",
    "#for i in 1:N\n",
    "XX = [Mx[1,1]]\n",
    "YY = [My[1,1]]\n",
    "    \n",
    "anim = @animate for i in 1:size(Mx,2)\n",
    "    plot!(XX, YY, lims=(-1,L+1), ms=8, leg=false, m=:o, aspect_ratio=1)\n",
    "end\n",
    "#end"
   ]
  },
  {
   "cell_type": "markdown",
   "metadata": {},
   "source": [
    "# Algunas cosas que se pueden hacer con estos datos"
   ]
  },
  {
   "cell_type": "markdown",
   "metadata": {},
   "source": [
    "### Teorema de equipartición de energía"
   ]
  },
  {
   "cell_type": "markdown",
   "metadata": {},
   "source": [
    "La idea central de la equipartición es que, en equilibrio térmico, la energía se reparte en partes iguales entre sus varias formas\n",
    "\n",
    "$$k_BT=\\frac{m}{2N}\\sum\\limits_{i=1}^N(v_{i,x}^2+v_{i,y}^2)$$\n",
    "\n",
    "\n",
    "Podemos graficar T como función del tiempo y ver si existe una temperatura de equilibrio"
   ]
  },
  {
   "cell_type": "markdown",
   "metadata": {},
   "source": [
    "### Distribución de Maxwell-Boltzmann"
   ]
  },
  {
   "cell_type": "markdown",
   "metadata": {},
   "source": [
    "Matemáticamente la distribución de Maxwell-Boltzmann es la distribución de una variable aleatoria escalar $X=\\sqrt{X_1^2+X_2^2+X_3^2}$  combinación de otras tres variables aleatorias $X_i$ cada una de las cuales se distribuye según una distribución normal "
   ]
  },
  {
   "cell_type": "markdown",
   "metadata": {},
   "source": [
    "Físicamente el módulo de la velocidad de una molécula $v$ es igual a la raíz de la suma cuadrados de las velocidades coordenadas de la partícula y como cada una de ellas siguen distribuciones gausianas entonces $v$ debe seguir una distribución de Maxwell-Boltzmann explícitamente:"
   ]
  },
  {
   "cell_type": "markdown",
   "metadata": {},
   "source": [
    "$$P_{Maxwell}(v)=C\\frac{v^2}{k_BT}e^{-\\frac{mv^2}{2k_BT}}$$"
   ]
  },
  {
   "cell_type": "markdown",
   "metadata": {},
   "source": [
    "Podemos de la distribución podemos deducir la temperatura dada por\n",
    "\n",
    "$$k_BT=mv_{pico}^2$$"
   ]
  },
  {
   "cell_type": "markdown",
   "metadata": {},
   "source": [
    "# Referencias"
   ]
  },
  {
   "cell_type": "markdown",
   "metadata": {},
   "source": [
    "Yoshitsugu, O. (2017). Perspectives on statistical thermodynamics. Cambridge, United Kingdom: Cambridge University Press."
   ]
  },
  {
   "cell_type": "markdown",
   "metadata": {},
   "source": [
    "Badis, Y. (2016). Computational Physics: An Introduction to Monte Carlo Simulations of Matrix Field Theory. Recuperado de https://arxiv.org/pdf/1506.02567.pdf"
   ]
  },
  {
   "cell_type": "markdown",
   "metadata": {},
   "source": [
    "Wikipedia contributors. (2019, 21 enero). Verlet integration - Wikipedia. Recuperado 25 enero, 2019, de https://en.wikipedia.org/wiki/Verlet_integration"
   ]
  },
  {
   "cell_type": "markdown",
   "metadata": {},
   "source": [
    "Colaboradores de Wikipedia. (2019, 19 enero). Distribución de Boltzmann - Wikipedia, la enciclopedia libre. Recuperado 25 enero, 2019, de https://es.wikipedia.org/wiki/Distribuci%C3%B3n_de_Boltzmann"
   ]
  },
  {
   "cell_type": "code",
   "execution_count": null,
   "metadata": {},
   "outputs": [],
   "source": []
  }
 ],
 "metadata": {
  "kernelspec": {
   "display_name": "Julia 1.1.0",
   "language": "julia",
   "name": "julia-1.1"
  },
  "language_info": {
   "file_extension": ".jl",
   "mimetype": "application/julia",
   "name": "julia",
   "version": "1.1.0"
  }
 },
 "nbformat": 4,
 "nbformat_minor": 2
}
